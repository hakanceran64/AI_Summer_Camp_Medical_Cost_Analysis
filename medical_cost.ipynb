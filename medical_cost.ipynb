{
 "cells": [
  {
   "cell_type": "markdown",
   "metadata": {},
   "source": [
    "# Medical Cost Analsys"
   ]
  },
  {
   "cell_type": "code",
   "execution_count": 118,
   "metadata": {},
   "outputs": [],
   "source": [
    "\n",
    "# Gerekli kütüphanelerin dahil edilmesi.\n",
    "import numpy as np\n",
    "import pandas as pd\n",
    "import os\n",
    "import matplotlib.pyplot as plt\n",
    "import seaborn as sns\n",
    "import warnings\n",
    "warnings.filterwarnings(\"ignore\")\n"
   ]
  },
  {
   "cell_type": "code",
   "execution_count": 119,
   "metadata": {},
   "outputs": [],
   "source": [
    "# insurance dataları import edildi.\n",
    "df_insurance = pd.read_csv(\"insurance.csv\")"
   ]
  },
  {
   "cell_type": "code",
   "execution_count": 120,
   "metadata": {},
   "outputs": [
    {
     "data": {
      "text/html": [
       "<div>\n",
       "<style scoped>\n",
       "    .dataframe tbody tr th:only-of-type {\n",
       "        vertical-align: middle;\n",
       "    }\n",
       "\n",
       "    .dataframe tbody tr th {\n",
       "        vertical-align: top;\n",
       "    }\n",
       "\n",
       "    .dataframe thead th {\n",
       "        text-align: right;\n",
       "    }\n",
       "</style>\n",
       "<table border=\"1\" class=\"dataframe\">\n",
       "  <thead>\n",
       "    <tr style=\"text-align: right;\">\n",
       "      <th></th>\n",
       "      <th>age</th>\n",
       "      <th>sex</th>\n",
       "      <th>bmi</th>\n",
       "      <th>children</th>\n",
       "      <th>smoker</th>\n",
       "      <th>region</th>\n",
       "      <th>charges</th>\n",
       "    </tr>\n",
       "  </thead>\n",
       "  <tbody>\n",
       "    <tr>\n",
       "      <th>0</th>\n",
       "      <td>19</td>\n",
       "      <td>female</td>\n",
       "      <td>27.900</td>\n",
       "      <td>0</td>\n",
       "      <td>yes</td>\n",
       "      <td>southwest</td>\n",
       "      <td>16884.92400</td>\n",
       "    </tr>\n",
       "    <tr>\n",
       "      <th>1</th>\n",
       "      <td>18</td>\n",
       "      <td>male</td>\n",
       "      <td>33.770</td>\n",
       "      <td>1</td>\n",
       "      <td>no</td>\n",
       "      <td>southeast</td>\n",
       "      <td>1725.55230</td>\n",
       "    </tr>\n",
       "    <tr>\n",
       "      <th>2</th>\n",
       "      <td>28</td>\n",
       "      <td>male</td>\n",
       "      <td>33.000</td>\n",
       "      <td>3</td>\n",
       "      <td>no</td>\n",
       "      <td>southeast</td>\n",
       "      <td>4449.46200</td>\n",
       "    </tr>\n",
       "    <tr>\n",
       "      <th>3</th>\n",
       "      <td>33</td>\n",
       "      <td>male</td>\n",
       "      <td>22.705</td>\n",
       "      <td>0</td>\n",
       "      <td>no</td>\n",
       "      <td>northwest</td>\n",
       "      <td>21984.47061</td>\n",
       "    </tr>\n",
       "    <tr>\n",
       "      <th>4</th>\n",
       "      <td>32</td>\n",
       "      <td>male</td>\n",
       "      <td>28.880</td>\n",
       "      <td>0</td>\n",
       "      <td>no</td>\n",
       "      <td>northwest</td>\n",
       "      <td>3866.85520</td>\n",
       "    </tr>\n",
       "  </tbody>\n",
       "</table>\n",
       "</div>"
      ],
      "text/plain": [
       "   age     sex     bmi  children smoker     region      charges\n",
       "0   19  female  27.900         0    yes  southwest  16884.92400\n",
       "1   18    male  33.770         1     no  southeast   1725.55230\n",
       "2   28    male  33.000         3     no  southeast   4449.46200\n",
       "3   33    male  22.705         0     no  northwest  21984.47061\n",
       "4   32    male  28.880         0     no  northwest   3866.85520"
      ]
     },
     "execution_count": 120,
     "metadata": {},
     "output_type": "execute_result"
    }
   ],
   "source": [
    "# Bakalım içeride neler var?\n",
    "df_insurance.head()"
   ]
  },
  {
   "cell_type": "code",
   "execution_count": 121,
   "metadata": {},
   "outputs": [
    {
     "data": {
      "text/plain": [
       "age         0\n",
       "sex         0\n",
       "bmi         0\n",
       "children    0\n",
       "smoker      0\n",
       "region      0\n",
       "charges     0\n",
       "dtype: int64"
      ]
     },
     "execution_count": 121,
     "metadata": {},
     "output_type": "execute_result"
    }
   ],
   "source": [
    "# Data frame içerisinde null değer var mı toplamlarını inceleyelim.\n",
    "df_insurance.isnull().sum()"
   ]
  },
  {
   "cell_type": "markdown",
   "metadata": {},
   "source": [
    "## 1. BMI(Vucüt kitle indeksi)'nin dağılımının incelenmesi\n",
    "\n",
    "| Category | Scala |\n",
    "|---|---|\n",
    "| Underweight | < 18.5 |\n",
    "| Normal | 18.5 - 24.9 |\n",
    "| Overweight | 25 - 29.9 |\n",
    "| Obese | 30 - 34.9 |\n",
    "| Extremly Obese | > 35 |\n",
    "\n",
    "Yukarıdaki tabloya göre kadın ve erkeklerdeki BMI dağılımını gösterirsek."
   ]
  },
  {
   "cell_type": "code",
   "execution_count": 122,
   "metadata": {},
   "outputs": [
    {
     "data": {
      "text/plain": [
       "1338"
      ]
     },
     "execution_count": 122,
     "metadata": {},
     "output_type": "execute_result"
    }
   ],
   "source": [
    "df_insurance[\"bmi\"].count()"
   ]
  },
  {
   "cell_type": "code",
   "execution_count": 123,
   "metadata": {},
   "outputs": [
    {
     "name": "stdout",
     "output_type": "stream",
     "text": [
      "BMI Underweight Count: 20\n",
      "BMI Normal Count:  221\n",
      "BMI Overweight Count:  374\n",
      "BMI Obese Count:  387\n",
      "BMI Extremly Obese Count:  316\n",
      "\n",
      "BMI Key:  ['Underweight', 'Normal', 'Overweight', 'Obese', 'Extremly Obese']\n",
      "BMI Counts:  [20, 221, 374, 387, 316]\n",
      "\n",
      "   Underweight  Normal  Overweight  Obese  Extremly Obese\n",
      "0           20     221         374    387             316\n"
     ]
    }
   ],
   "source": [
    "\n",
    "bmi_underweight = (df_insurance[\"bmi\"] < 18.5).sum()\n",
    "print(\"BMI Underweight Count:\", bmi_underweight)\n",
    "\n",
    "bmi_normal = ((18.5 < df_insurance[\"bmi\"]) & (df_insurance[\"bmi\"] < 24.9)).sum()\n",
    "\n",
    "print(\"BMI Normal Count: \", bmi_normal)\n",
    "\n",
    "bmi_overweight = ((25 <= df_insurance[\"bmi\"]) & (df_insurance[\"bmi\"] < 29.9)).sum()\n",
    "print(\"BMI Overweight Count: \", bmi_overweight)\n",
    "\n",
    "bmi_obese = ((30 <= df_insurance[\"bmi\"]) & (df_insurance[\"bmi\"] < 34.9)).sum()\n",
    "print(\"BMI Obese Count: \", bmi_obese)\n",
    "\n",
    "bmi_extremly_obese = ((35 <= df_insurance[\"bmi\"])).sum()\n",
    "print(\"BMI Extremly Obese Count: \", bmi_extremly_obese)\n",
    "\n",
    "# Dataları bu şekilde tanımlayabiliriz.\n",
    "bmi_key = [\"Underweight\", \"Normal\", \"Overweight\", \"Obese\", \"Extremly Obese\"]\n",
    "bmi_counts = [bmi_underweight, bmi_normal, bmi_overweight, bmi_obese, bmi_extremly_obese]\n",
    "\n",
    "print()\n",
    "\n",
    "print(\"BMI Key: \", bmi_key)\n",
    "print(\"BMI Counts: \", bmi_counts)\n",
    "\n",
    "# Ve ya data frame olarak da tanımlayabiliriz.\n",
    "bmi_data = pd.DataFrame({\n",
    "    \"Underweight\": [bmi_underweight],\n",
    "    \"Normal\": [bmi_normal],\n",
    "    \"Overweight\": [bmi_overweight],\n",
    "    \"Obese\": [bmi_obese],\n",
    "    \"Extremly Obese\": [bmi_extremly_obese],\n",
    "    })\n",
    "\n",
    "print()\n",
    "\n",
    "print(bmi_data)"
   ]
  },
  {
   "cell_type": "code",
   "execution_count": 124,
   "metadata": {},
   "outputs": [
    {
     "data": {
      "image/png": "[encoded data removed]",
      "text/plain": [
       "<Figure size 720x432 with 1 Axes>"
      ]
     },
     "metadata": {},
     "output_type": "display_data"
    }
   ],
   "source": [
    "\n",
    "plt.figure(figsize=(10, 6))\n",
    "\n",
    "sns.set_theme(style=\"whitegrid\", palette=\"pastel\", font_scale=2)\n",
    "\n",
    "p = sns.barplot(data = bmi_data)\n",
    "p.set_xlabel(\"Category\")\n",
    "p.set_ylabel(\"Sum\")\n",
    "p.set_title(\"BMI Categorized\")\n",
    "\n",
    "plt.show()\n"
   ]
  },
  {
   "cell_type": "code",
   "execution_count": null,
   "metadata": {},
   "outputs": [],
   "source": [
    "\n"
   ]
  }
 ],
 "metadata": {
  "kernelspec": {
   "display_name": "Python 3.8.8 ('base')",
   "language": "python",
   "name": "python3"
  },
  "language_info": {
   "codemirror_mode": {
    "name": "ipython",
    "version": 3
   },
   "file_extension": ".py",
   "mimetype": "text/x-python",
   "name": "python",
   "nbconvert_exporter": "python",
   "pygments_lexer": "ipython3",
   "version": "3.8.8"
  },
  "orig_nbformat": 4,
  "vscode": {
   "interpreter": {
    "hash": "ad2bdc8ecc057115af97d19610ffacc2b4e99fae6737bb82f5d7fb13d2f2c186"
   }
  }
 },
 "nbformat": 4,
 "nbformat_minor": 2
}
